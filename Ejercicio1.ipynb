{
  "nbformat": 4,
  "nbformat_minor": 0,
  "metadata": {
    "colab": {
      "provenance": []
    },
    "kernelspec": {
      "name": "python3",
      "display_name": "Python 3"
    },
    "language_info": {
      "name": "python"
    }
  },
  "cells": [
    {
      "cell_type": "code",
      "source": [
        "lista = [\"a  \", \"abcd  \",\"dsad  \"]\n",
        "\n",
        "def borrarEspacios(lista):\n",
        "  for i in range(len(lista)):\n",
        "    lista[i] = lista[i].rstrip()\n",
        "  return lista\n",
        "\n",
        "\n",
        "print(borrarEspacios(lista))\n"
      ],
      "metadata": {
        "colab": {
          "base_uri": "https://localhost:8080/"
        },
        "id": "cK5N9Y3U0uBV",
        "outputId": "fa2d05c6-6deb-4d07-c16f-fb7e3b64934d"
      },
      "execution_count": 20,
      "outputs": [
        {
          "output_type": "stream",
          "name": "stdout",
          "text": [
            "['a', 'abcd', 'dsad']\n"
          ]
        }
      ]
    }
  ]
}